{
 "cells": [
  {
   "cell_type": "code",
   "execution_count": 179,
   "id": "ba81acce-57a1-477e-9913-671a4e6d192b",
   "metadata": {},
   "outputs": [],
   "source": [
    "import numpy as np\n",
    "import pandas as pd\n",
    "import matplotlib.pyplot as plt"
   ]
  },
  {
   "cell_type": "code",
   "execution_count": 128,
   "id": "402f9c1a-053a-4ac7-8651-175c43c4b500",
   "metadata": {},
   "outputs": [
    {
     "data": {
      "text/html": [
       "<div>\n",
       "<style scoped>\n",
       "    .dataframe tbody tr th:only-of-type {\n",
       "        vertical-align: middle;\n",
       "    }\n",
       "\n",
       "    .dataframe tbody tr th {\n",
       "        vertical-align: top;\n",
       "    }\n",
       "\n",
       "    .dataframe thead th {\n",
       "        text-align: right;\n",
       "    }\n",
       "</style>\n",
       "<table border=\"1\" class=\"dataframe\">\n",
       "  <thead>\n",
       "    <tr style=\"text-align: right;\">\n",
       "      <th></th>\n",
       "      <th>id</th>\n",
       "      <th>member_id</th>\n",
       "      <th>loan_amnt</th>\n",
       "      <th>funded_amnt</th>\n",
       "      <th>funded_amnt_inv</th>\n",
       "      <th>term</th>\n",
       "      <th>int_rate</th>\n",
       "      <th>installment</th>\n",
       "      <th>grade</th>\n",
       "      <th>sub_grade</th>\n",
       "      <th>...</th>\n",
       "      <th>num_tl_90g_dpd_24m</th>\n",
       "      <th>num_tl_op_past_12m</th>\n",
       "      <th>pct_tl_nvr_dlq</th>\n",
       "      <th>percent_bc_gt_75</th>\n",
       "      <th>pub_rec_bankruptcies</th>\n",
       "      <th>tax_liens</th>\n",
       "      <th>tot_hi_cred_lim</th>\n",
       "      <th>total_bal_ex_mort</th>\n",
       "      <th>total_bc_limit</th>\n",
       "      <th>total_il_high_credit_limit</th>\n",
       "    </tr>\n",
       "  </thead>\n",
       "  <tbody>\n",
       "    <tr>\n",
       "      <th>0</th>\n",
       "      <td>1077501</td>\n",
       "      <td>1296599</td>\n",
       "      <td>5000</td>\n",
       "      <td>5000</td>\n",
       "      <td>4975.0</td>\n",
       "      <td>36 months</td>\n",
       "      <td>10.65%</td>\n",
       "      <td>162.87</td>\n",
       "      <td>B</td>\n",
       "      <td>B2</td>\n",
       "      <td>...</td>\n",
       "      <td>NaN</td>\n",
       "      <td>NaN</td>\n",
       "      <td>NaN</td>\n",
       "      <td>NaN</td>\n",
       "      <td>0.0</td>\n",
       "      <td>0.0</td>\n",
       "      <td>NaN</td>\n",
       "      <td>NaN</td>\n",
       "      <td>NaN</td>\n",
       "      <td>NaN</td>\n",
       "    </tr>\n",
       "    <tr>\n",
       "      <th>1</th>\n",
       "      <td>1077430</td>\n",
       "      <td>1314167</td>\n",
       "      <td>2500</td>\n",
       "      <td>2500</td>\n",
       "      <td>2500.0</td>\n",
       "      <td>60 months</td>\n",
       "      <td>15.27%</td>\n",
       "      <td>59.83</td>\n",
       "      <td>C</td>\n",
       "      <td>C4</td>\n",
       "      <td>...</td>\n",
       "      <td>NaN</td>\n",
       "      <td>NaN</td>\n",
       "      <td>NaN</td>\n",
       "      <td>NaN</td>\n",
       "      <td>0.0</td>\n",
       "      <td>0.0</td>\n",
       "      <td>NaN</td>\n",
       "      <td>NaN</td>\n",
       "      <td>NaN</td>\n",
       "      <td>NaN</td>\n",
       "    </tr>\n",
       "    <tr>\n",
       "      <th>2</th>\n",
       "      <td>1077175</td>\n",
       "      <td>1313524</td>\n",
       "      <td>2400</td>\n",
       "      <td>2400</td>\n",
       "      <td>2400.0</td>\n",
       "      <td>36 months</td>\n",
       "      <td>15.96%</td>\n",
       "      <td>84.33</td>\n",
       "      <td>C</td>\n",
       "      <td>C5</td>\n",
       "      <td>...</td>\n",
       "      <td>NaN</td>\n",
       "      <td>NaN</td>\n",
       "      <td>NaN</td>\n",
       "      <td>NaN</td>\n",
       "      <td>0.0</td>\n",
       "      <td>0.0</td>\n",
       "      <td>NaN</td>\n",
       "      <td>NaN</td>\n",
       "      <td>NaN</td>\n",
       "      <td>NaN</td>\n",
       "    </tr>\n",
       "    <tr>\n",
       "      <th>3</th>\n",
       "      <td>1076863</td>\n",
       "      <td>1277178</td>\n",
       "      <td>10000</td>\n",
       "      <td>10000</td>\n",
       "      <td>10000.0</td>\n",
       "      <td>36 months</td>\n",
       "      <td>13.49%</td>\n",
       "      <td>339.31</td>\n",
       "      <td>C</td>\n",
       "      <td>C1</td>\n",
       "      <td>...</td>\n",
       "      <td>NaN</td>\n",
       "      <td>NaN</td>\n",
       "      <td>NaN</td>\n",
       "      <td>NaN</td>\n",
       "      <td>0.0</td>\n",
       "      <td>0.0</td>\n",
       "      <td>NaN</td>\n",
       "      <td>NaN</td>\n",
       "      <td>NaN</td>\n",
       "      <td>NaN</td>\n",
       "    </tr>\n",
       "    <tr>\n",
       "      <th>4</th>\n",
       "      <td>1075358</td>\n",
       "      <td>1311748</td>\n",
       "      <td>3000</td>\n",
       "      <td>3000</td>\n",
       "      <td>3000.0</td>\n",
       "      <td>60 months</td>\n",
       "      <td>12.69%</td>\n",
       "      <td>67.79</td>\n",
       "      <td>B</td>\n",
       "      <td>B5</td>\n",
       "      <td>...</td>\n",
       "      <td>NaN</td>\n",
       "      <td>NaN</td>\n",
       "      <td>NaN</td>\n",
       "      <td>NaN</td>\n",
       "      <td>0.0</td>\n",
       "      <td>0.0</td>\n",
       "      <td>NaN</td>\n",
       "      <td>NaN</td>\n",
       "      <td>NaN</td>\n",
       "      <td>NaN</td>\n",
       "    </tr>\n",
       "  </tbody>\n",
       "</table>\n",
       "<p>5 rows × 111 columns</p>\n",
       "</div>"
      ],
      "text/plain": [
       "        id  member_id  loan_amnt  funded_amnt  funded_amnt_inv        term  \\\n",
       "0  1077501    1296599       5000         5000           4975.0   36 months   \n",
       "1  1077430    1314167       2500         2500           2500.0   60 months   \n",
       "2  1077175    1313524       2400         2400           2400.0   36 months   \n",
       "3  1076863    1277178      10000        10000          10000.0   36 months   \n",
       "4  1075358    1311748       3000         3000           3000.0   60 months   \n",
       "\n",
       "  int_rate  installment grade sub_grade  ... num_tl_90g_dpd_24m  \\\n",
       "0   10.65%       162.87     B        B2  ...                NaN   \n",
       "1   15.27%        59.83     C        C4  ...                NaN   \n",
       "2   15.96%        84.33     C        C5  ...                NaN   \n",
       "3   13.49%       339.31     C        C1  ...                NaN   \n",
       "4   12.69%        67.79     B        B5  ...                NaN   \n",
       "\n",
       "  num_tl_op_past_12m pct_tl_nvr_dlq  percent_bc_gt_75 pub_rec_bankruptcies  \\\n",
       "0                NaN            NaN               NaN                  0.0   \n",
       "1                NaN            NaN               NaN                  0.0   \n",
       "2                NaN            NaN               NaN                  0.0   \n",
       "3                NaN            NaN               NaN                  0.0   \n",
       "4                NaN            NaN               NaN                  0.0   \n",
       "\n",
       "  tax_liens tot_hi_cred_lim total_bal_ex_mort total_bc_limit  \\\n",
       "0       0.0             NaN               NaN            NaN   \n",
       "1       0.0             NaN               NaN            NaN   \n",
       "2       0.0             NaN               NaN            NaN   \n",
       "3       0.0             NaN               NaN            NaN   \n",
       "4       0.0             NaN               NaN            NaN   \n",
       "\n",
       "  total_il_high_credit_limit  \n",
       "0                        NaN  \n",
       "1                        NaN  \n",
       "2                        NaN  \n",
       "3                        NaN  \n",
       "4                        NaN  \n",
       "\n",
       "[5 rows x 111 columns]"
      ]
     },
     "execution_count": 128,
     "metadata": {},
     "output_type": "execute_result"
    }
   ],
   "source": [
    "# Import loan.csv file in a pandas data frame. Kept type of \"next_pymnt_d\" as string as Python was complaining\n",
    "# about mixed types of this column.\n",
    "lender_data = pd.read_csv(\"loan.csv\", dtype = {\"next_pymnt_d\": \"string\"})\n",
    "lender_data.head()"
   ]
  },
  {
   "cell_type": "code",
   "execution_count": null,
   "id": "36d75268-c9c7-4e4e-a033-b3e2be29e95f",
   "metadata": {},
   "outputs": [],
   "source": [
    "## Data cleaning"
   ]
  },
  {
   "cell_type": "code",
   "execution_count": 129,
   "id": "2c081c84-3731-4804-bb55-c748d2645abc",
   "metadata": {},
   "outputs": [
    {
     "name": "stdout",
     "output_type": "stream",
     "text": [
      "(39717, 55)\n"
     ]
    }
   ],
   "source": [
    "# First drop duplicate rows\n",
    "lender_data.drop_duplicates()\n",
    "\n",
    "# Then, drop columns with more than 75% of NA values\n",
    "na_threshold = 75\n",
    "min_non_na_count = int(((100-na_threshold)/100)*lender_data.shape[0] + 1)\n",
    "lender_data.dropna(axis = 1, thresh = min_non_na_count, inplace=True)\n",
    "print(lender_data.shape)"
   ]
  },
  {
   "cell_type": "code",
   "execution_count": 132,
   "id": "ec982a98-0f4f-4af9-887e-13b96b7f062e",
   "metadata": {},
   "outputs": [
    {
     "data": {
      "text/plain": [
       "0    36\n",
       "1    60\n",
       "2    36\n",
       "3    36\n",
       "4    60\n",
       "Name: term, dtype: int32"
      ]
     },
     "execution_count": 132,
     "metadata": {},
     "output_type": "execute_result"
    }
   ],
   "source": [
    "# Remove months from term column and change its type to int\n",
    "lender_data[\"term\"] = lender_data[\"term\"].str.replace(\" months\", \"\")\n",
    "lender_data = lender_data.astype({\"term\": \"int32\"})\n",
    "lender_data[\"term\"].head()"
   ]
  },
  {
   "cell_type": "code",
   "execution_count": 130,
   "id": "657643cb-b40a-41dc-8164-d8d68bad9bec",
   "metadata": {},
   "outputs": [
    {
     "data": {
      "text/plain": [
       "0    10.65\n",
       "1    15.27\n",
       "2    15.96\n",
       "3    13.49\n",
       "4    12.69\n",
       "Name: int_rate, dtype: float32"
      ]
     },
     "execution_count": 130,
     "metadata": {},
     "output_type": "execute_result"
    }
   ],
   "source": [
    "# Remove % from int_rate and change its type to float\n",
    "lender_data[\"int_rate\"] = lender_data[\"int_rate\"].str.replace(\"%\", \"\")\n",
    "lender_data = lender_data.astype({\"int_rate\": \"float32\"})\n",
    "lender_data[\"int_rate\"].head()"
   ]
  },
  {
   "cell_type": "markdown",
   "id": "042375b2-fdf7-4421-a36d-862ab4d8935c",
   "metadata": {},
   "source": [
    "## Univariate analysis"
   ]
  },
  {
   "cell_type": "markdown",
   "id": "b97af1ed-caec-470d-9a63-7b89f0922c8a",
   "metadata": {},
   "source": [
    "### Loan amount distribution"
   ]
  },
  {
   "cell_type": "code",
   "execution_count": 211,
   "id": "2de3b7c9-95cb-47fe-95b3-cf5a801ea20c",
   "metadata": {},
   "outputs": [
    {
     "data": {
      "image/png": "[encoded data removed]",
      "text/plain": [
       "<Figure size 640x480 with 1 Axes>"
      ]
     },
     "metadata": {},
     "output_type": "display_data"
    },
    {
     "data": {
      "text/plain": [
       "count    39717.000000\n",
       "mean     11219.443815\n",
       "std       7456.670694\n",
       "min        500.000000\n",
       "25%       5500.000000\n",
       "50%      10000.000000\n",
       "75%      15000.000000\n",
       "max      35000.000000\n",
       "Name: loan_amnt, dtype: float64"
      ]
     },
     "execution_count": 211,
     "metadata": {},
     "output_type": "execute_result"
    }
   ],
   "source": [
    "plt.boxplot(lender_data[\"loan_amnt\"])\n",
    "plt.xlabel(\"Loan amount\")\n",
    "plt.show()\n",
    "lender_data[\"loan_amnt\"].describe()"
   ]
  },
  {
   "cell_type": "code",
   "execution_count": 212,
   "id": "975e3abe-2e6c-4152-a874-431669b473bb",
   "metadata": {},
   "outputs": [
    {
     "data": {
      "image/png": "[encoded data removed]",
      "text/plain": [
       "<Figure size 640x480 with 1 Axes>"
      ]
     },
     "metadata": {},
     "output_type": "display_data"
    },
    {
     "name": "stdout",
     "output_type": "stream",
     "text": [
      "count    39717.000000\n",
      "mean        12.021177\n",
      "std          3.724825\n",
      "min          5.420000\n",
      "25%          9.250000\n",
      "50%         11.860000\n",
      "75%         14.590000\n",
      "max         24.590000\n",
      "Name: int_rate, dtype: float64\n"
     ]
    }
   ],
   "source": [
    "# Effect of rate of interest on loan status\n",
    "plt.hist(lender_data[\"int_rate\"], bins = len(lender_data[\"int_rate\"].unique()))\n",
    "plt.show()\n",
    "print(lender_data[\"int_rate\"].describe())"
   ]
  },
  {
   "cell_type": "code",
   "execution_count": 210,
   "id": "4421fd4a-e94a-4f35-a233-1fc86a7b3074",
   "metadata": {},
   "outputs": [
    {
     "data": {
      "image/png": "[encoded data removed]",
      "text/plain": [
       "<Figure size 640x480 with 1 Axes>"
      ]
     },
     "metadata": {},
     "output_type": "display_data"
    }
   ],
   "source": [
    "plt.boxplot(lender_data[\"int_rate\"])\n",
    "plt.show()"
   ]
  },
  {
   "cell_type": "markdown",
   "id": "fc0c3f94-bbb3-4f55-b873-21ca1c2821f1",
   "metadata": {},
   "source": [
    "### Insights\n",
    "1. 50% of the loans lie in the range [5500, 15000].\n",
    "2. Median loan amount is Rs. 10000.\n",
    "3. 25% of loan amounts lie in the range [15000, 35000].\n",
    "4. Around 1400 customers have an interest rate of 7.5%.\n",
    "5. 50% of customers have interest rate between 9% to 14%."
   ]
  },
  {
   "cell_type": "markdown",
   "id": "ccee24cd-eb49-401e-99fd-e187e71a1e7f",
   "metadata": {},
   "source": [
    "## Segmented Analysis"
   ]
  },
  {
   "cell_type": "code",
   "execution_count": 139,
   "id": "b0433f8b-c58c-4ae1-b6c1-b2f89c05f14e",
   "metadata": {},
   "outputs": [
    {
     "name": "stdout",
     "output_type": "stream",
     "text": [
      "term\n",
      "36    29096\n",
      "60    10621\n",
      "dtype: int64\n"
     ]
    },
    {
     "data": {
      "image/png": "[encoded data removed]",
      "text/plain": [
       "<Figure size 640x480 with 1 Axes>"
      ]
     },
     "metadata": {},
     "output_type": "display_data"
    }
   ],
   "source": [
    "# Grouping on interest time period\n",
    "grouped_on_term = lender_data.groupby(\"term\").size()\n",
    "print(grouped_on_term)\n",
    "plt.hist(lender_data[\"term\"])\n",
    "plt.show()"
   ]
  },
  {
   "cell_type": "code",
   "execution_count": 241,
   "id": "7b775ae3-b6da-42ff-905b-15ebddc8d70e",
   "metadata": {},
   "outputs": [
    {
     "name": "stdout",
     "output_type": "stream",
     "text": [
      "Percentage of customers with 36 months of interest term that have defaulted 11\n",
      "Percentage of customers with 60 months of interest term that have defaulted 22\n"
     ]
    }
   ],
   "source": [
    "# Grouping on interest time period and loan status\n",
    "grouped_on_term_and_loan_status = lender_data.groupby([\"term\", \"loan_status\"]).size()\n",
    "x = grouped_on_term_and_loan_status.index.tolist()\n",
    "y = grouped_on_term_and_loan_status.values.tolist()\n",
    "print(\"Percentage of customers with 36 months of interest term that have defaulted\", int(grouped_on_term_and_loan_status[(36, 'Charged Off')] / grouped_on_term[36] * 100))\n",
    "print(\"Percentage of customers with 60 months of interest term that have defaulted\", int(grouped_on_term_and_loan_status[(60, 'Charged Off')] / grouped_on_term[60] * 100))"
   ]
  },
  {
   "cell_type": "markdown",
   "id": "5cceae9f-8e98-4228-8a06-c42027e390f1",
   "metadata": {},
   "source": [
    "### Analysis by grouping on term and loan status\n",
    "\n",
    "1. Among customers having 60 months of interest term, 22% default their loans.\n",
    "2. Among customers having 36 months of interest term, 11% default their loans.\n",
    "\n",
    "So, people with higher interest time period have a higher tendency to default their loans."
   ]
  },
  {
   "cell_type": "code",
   "execution_count": 218,
   "id": "27aaa5c6-794d-4961-9d66-5b22718a9663",
   "metadata": {},
   "outputs": [
    {
     "data": {
      "image/png": "[encoded data removed]",
      "text/plain": [
       "<Figure size 640x480 with 1 Axes>"
      ]
     },
     "metadata": {},
     "output_type": "display_data"
    },
    {
     "data": {
      "text/plain": [
       "count    39717.00000\n",
       "mean     13993.52591\n",
       "std      10119.26240\n",
       "min        564.84000\n",
       "25%       6528.60000\n",
       "50%      11379.96000\n",
       "75%      18627.12000\n",
       "max      60303.60000\n",
       "Name: principal_amnt, dtype: float64"
      ]
     },
     "execution_count": 218,
     "metadata": {},
     "output_type": "execute_result"
    }
   ],
   "source": [
    "# Lets derive a new metric principal amount from installment and term for simplicity.\n",
    "# It can also be derived from loan amount, interest rate and term but that is difficult as that will compound interest formula.\n",
    "lender_data[\"principal_amnt\"] = (lender_data[\"installment\"] * lender_data[\"term\"]).round(2)\n",
    "plt.boxplot(lender_data[\"principal_amnt\"])\n",
    "plt.show()\n",
    "lender_data[\"principal_amnt\"].describe()"
   ]
  },
  {
   "cell_type": "code",
   "execution_count": 234,
   "id": "2f416f17-db93-4666-9a1d-535cefc8a8c2",
   "metadata": {},
   "outputs": [],
   "source": [
    "def q75(x):\n",
    "    return x.quantile(0.75)\n",
    "def q25(x):\n",
    "    return x.quantile(0.25)"
   ]
  },
  {
   "cell_type": "code",
   "execution_count": 236,
   "id": "7c04f7ee-28ef-43df-b3fd-09bb8e86d6f4",
   "metadata": {},
   "outputs": [
    {
     "name": "stdout",
     "output_type": "stream",
     "text": [
      "loan_status\n",
      "Charged Off     5627\n",
      "Current         1140\n",
      "Fully Paid     32950\n",
      "Name: principal_amnt, dtype: int64\n"
     ]
    },
    {
     "data": {
      "text/html": [
       "<div>\n",
       "<style scoped>\n",
       "    .dataframe tbody tr th:only-of-type {\n",
       "        vertical-align: middle;\n",
       "    }\n",
       "\n",
       "    .dataframe tbody tr th {\n",
       "        vertical-align: top;\n",
       "    }\n",
       "\n",
       "    .dataframe thead tr th {\n",
       "        text-align: left;\n",
       "    }\n",
       "\n",
       "    .dataframe thead tr:last-of-type th {\n",
       "        text-align: right;\n",
       "    }\n",
       "</style>\n",
       "<table border=\"1\" class=\"dataframe\">\n",
       "  <thead>\n",
       "    <tr>\n",
       "      <th></th>\n",
       "      <th colspan=\"7\" halign=\"left\">principal_amnt</th>\n",
       "    </tr>\n",
       "    <tr>\n",
       "      <th></th>\n",
       "      <th>mean</th>\n",
       "      <th>median</th>\n",
       "      <th>mode</th>\n",
       "      <th>max</th>\n",
       "      <th>min</th>\n",
       "      <th>q25</th>\n",
       "      <th>q75</th>\n",
       "    </tr>\n",
       "    <tr>\n",
       "      <th>loan_status</th>\n",
       "      <th></th>\n",
       "      <th></th>\n",
       "      <th></th>\n",
       "      <th></th>\n",
       "      <th></th>\n",
       "      <th></th>\n",
       "      <th></th>\n",
       "    </tr>\n",
       "  </thead>\n",
       "  <tbody>\n",
       "    <tr>\n",
       "      <th>Charged Off</th>\n",
       "      <td>15889.188868</td>\n",
       "      <td>12621.00</td>\n",
       "      <td>16563.60</td>\n",
       "      <td>60303.6</td>\n",
       "      <td>1049.76</td>\n",
       "      <td>6982.20</td>\n",
       "      <td>22121.4</td>\n",
       "    </tr>\n",
       "    <tr>\n",
       "      <th>Current</th>\n",
       "      <td>23728.563684</td>\n",
       "      <td>22091.40</td>\n",
       "      <td>16563.60</td>\n",
       "      <td>58887.0</td>\n",
       "      <td>1304.40</td>\n",
       "      <td>15508.20</td>\n",
       "      <td>31183.5</td>\n",
       "    </tr>\n",
       "    <tr>\n",
       "      <th>Fully Paid</th>\n",
       "      <td>13332.984528</td>\n",
       "      <td>11062.08</td>\n",
       "      <td>11199.96</td>\n",
       "      <td>59466.0</td>\n",
       "      <td>564.84</td>\n",
       "      <td>6315.03</td>\n",
       "      <td>17746.2</td>\n",
       "    </tr>\n",
       "  </tbody>\n",
       "</table>\n",
       "</div>"
      ],
      "text/plain": [
       "            principal_amnt                                                  \\\n",
       "                      mean    median      mode      max      min       q25   \n",
       "loan_status                                                                  \n",
       "Charged Off   15889.188868  12621.00  16563.60  60303.6  1049.76   6982.20   \n",
       "Current       23728.563684  22091.40  16563.60  58887.0  1304.40  15508.20   \n",
       "Fully Paid    13332.984528  11062.08  11199.96  59466.0   564.84   6315.03   \n",
       "\n",
       "                      \n",
       "                 q75  \n",
       "loan_status           \n",
       "Charged Off  22121.4  \n",
       "Current      31183.5  \n",
       "Fully Paid   17746.2  "
      ]
     },
     "execution_count": 236,
     "metadata": {},
     "output_type": "execute_result"
    }
   ],
   "source": [
    "# Now lets group the data on loan status and find the mean, median, mode principal amount in each segment\n",
    "grouped_on_loan_status = lender_data.groupby(\"loan_status\")\n",
    "principal_amount_aggregation = grouped_on_loan_status.agg({\"principal_amnt\": [pd.Series.mean, pd.Series.median, pd.Series.mode, pd.Series.max, pd.Series.min, q25, q75]})\n",
    "print(grouped_on_loan_status[\"principal_amnt\"].count())\n",
    "principal_amount_aggregation"
   ]
  },
  {
   "cell_type": "markdown",
   "id": "78910ce3-6721-4181-9c21-1c8c82691a0a",
   "metadata": {},
   "source": [
    "### Analysis by grouping on loan status and aggregating principal amount metric\n",
    "Among the 5627 customers that have defaulted:\n",
    "1. 25% customers have principal amount less than ₹ 7000 approximately.\n",
    "2. 50% customers have principal amount between ₹ 7000 and ₹ 22000.\n",
    "3. 25% customers have principal amount above ₹ 22000 highest being close to ₹ 60000.\n",
    "\n",
    "This proves the pattern that customers with high principal amount are more likely to default their loans."
   ]
  },
  {
   "cell_type": "code",
   "execution_count": 243,
   "id": "1986a1bc-69ac-4f7f-91af-4ea41fc78b52",
   "metadata": {},
   "outputs": [
    {
     "data": {
      "text/html": [
       "<div>\n",
       "<style scoped>\n",
       "    .dataframe tbody tr th:only-of-type {\n",
       "        vertical-align: middle;\n",
       "    }\n",
       "\n",
       "    .dataframe tbody tr th {\n",
       "        vertical-align: top;\n",
       "    }\n",
       "\n",
       "    .dataframe thead tr th {\n",
       "        text-align: left;\n",
       "    }\n",
       "\n",
       "    .dataframe thead tr:last-of-type th {\n",
       "        text-align: right;\n",
       "    }\n",
       "</style>\n",
       "<table border=\"1\" class=\"dataframe\">\n",
       "  <thead>\n",
       "    <tr>\n",
       "      <th></th>\n",
       "      <th colspan=\"7\" halign=\"left\">annual_inc</th>\n",
       "    </tr>\n",
       "    <tr>\n",
       "      <th></th>\n",
       "      <th>mean</th>\n",
       "      <th>median</th>\n",
       "      <th>mode</th>\n",
       "      <th>max</th>\n",
       "      <th>min</th>\n",
       "      <th>q25</th>\n",
       "      <th>q75</th>\n",
       "    </tr>\n",
       "    <tr>\n",
       "      <th>loan_status</th>\n",
       "      <th></th>\n",
       "      <th></th>\n",
       "      <th></th>\n",
       "      <th></th>\n",
       "      <th></th>\n",
       "      <th></th>\n",
       "      <th></th>\n",
       "    </tr>\n",
       "  </thead>\n",
       "  <tbody>\n",
       "    <tr>\n",
       "      <th>Charged Off</th>\n",
       "      <td>62427.298034</td>\n",
       "      <td>53000.0</td>\n",
       "      <td>60000.0</td>\n",
       "      <td>1250000.0</td>\n",
       "      <td>4080.0</td>\n",
       "      <td>37000.00</td>\n",
       "      <td>75000.0</td>\n",
       "    </tr>\n",
       "    <tr>\n",
       "      <th>Current</th>\n",
       "      <td>75430.665105</td>\n",
       "      <td>65000.0</td>\n",
       "      <td>60000.0</td>\n",
       "      <td>650000.0</td>\n",
       "      <td>9960.0</td>\n",
       "      <td>47475.00</td>\n",
       "      <td>90000.0</td>\n",
       "    </tr>\n",
       "    <tr>\n",
       "      <th>Fully Paid</th>\n",
       "      <td>69862.503328</td>\n",
       "      <td>60000.0</td>\n",
       "      <td>60000.0</td>\n",
       "      <td>6000000.0</td>\n",
       "      <td>4000.0</td>\n",
       "      <td>41132.75</td>\n",
       "      <td>84000.0</td>\n",
       "    </tr>\n",
       "  </tbody>\n",
       "</table>\n",
       "</div>"
      ],
      "text/plain": [
       "               annual_inc                                                 \\\n",
       "                     mean   median     mode        max     min       q25   \n",
       "loan_status                                                                \n",
       "Charged Off  62427.298034  53000.0  60000.0  1250000.0  4080.0  37000.00   \n",
       "Current      75430.665105  65000.0  60000.0   650000.0  9960.0  47475.00   \n",
       "Fully Paid   69862.503328  60000.0  60000.0  6000000.0  4000.0  41132.75   \n",
       "\n",
       "                      \n",
       "                 q75  \n",
       "loan_status           \n",
       "Charged Off  75000.0  \n",
       "Current      90000.0  \n",
       "Fully Paid   84000.0  "
      ]
     },
     "execution_count": 243,
     "metadata": {},
     "output_type": "execute_result"
    }
   ],
   "source": [
    "# Lets group the data on loan repayment status and customer's annual income\n",
    "annual_income_aggregation = grouped_on_loan_status.agg({\"annual_inc\": [pd.Series.mean, pd.Series.median, pd.Series.mode, pd.Series.max, pd.Series.min, q25, q75]})\n",
    "annual_income_aggregation"
   ]
  },
  {
   "cell_type": "markdown",
   "id": "4382c813-4e4a-452a-8b13-39d328e0db84",
   "metadata": {},
   "source": [
    "### Analysis by grouping on loan status and aggregating principal amount metric\n",
    "1. The mean and median income of defauled customers is the lowest.\n",
    "2. The inter quartile range of annual income of defaulted customers is also the lowest among all.\n",
    "\n",
    "So, customers having an annual income less than ₹ 75000 are more likely to default their loans."
   ]
  },
  {
   "cell_type": "code",
   "execution_count": 267,
   "id": "ec88bb9d-2197-4a2b-88cf-521aa56c3dc8",
   "metadata": {},
   "outputs": [
    {
     "name": "stdout",
     "output_type": "stream",
     "text": [
      "[36.45 25.48 38.07]\n"
     ]
    },
    {
     "data": {
      "image/png": "[encoded data removed]",
      "text/plain": [
       "<Figure size 640x480 with 1 Axes>"
      ]
     },
     "metadata": {},
     "output_type": "display_data"
    }
   ],
   "source": [
    "# Lets analyse verification status and loan status\n",
    "grouped_on_verification_and_loan_status = lender_data.groupby([\"verification_status\", \"loan_status\"]).size()\n",
    "verification_keys = lender_data[\"verification_status\"].unique()\n",
    "verification_values = np.array([grouped_on_verification_and_loan_status[('Verified', 'Charged Off')], grouped_on_verification_and_loan_status[('Source Verified', 'Charged Off')], grouped_on_verification_and_loan_status[('Not Verified', 'Charged Off')]])\n",
    "verification_values = (verification_values / 5627 * 100).round(2)\n",
    "print(verification_values)\n",
    "plt.bar(verification_keys, verification_values)\n",
    "plt.ylabel(\"Charge off rate\")\n",
    "plt.show()"
   ]
  },
  {
   "cell_type": "markdown",
   "id": "64d76055-4019-49b5-ac58-07fe10d8ad96",
   "metadata": {},
   "source": [
    "### Analysis by grouping on verification status and loan status\n",
    "1. There isn't a direct correlation between the income verification status and loan default rate.\n",
    "2. This is due to the fact that charge off rate is the roughly the same for loans that were verified and unverified loans.\n",
    "3. This raises the question on the bank's should income verification process. It probably needs an improvement.\n",
    "4. Charge off rate is lower for customers whose income source was verified. This might mean that these customers are working in a legitimate company and have correctly reported their income.\n",
    "5. This might also mean that not all verified income customers have reported their income honestly. They might have a business of their own due to which they are able to do so."
   ]
  },
  {
   "cell_type": "code",
   "execution_count": null,
   "id": "4c253074-8ca0-4ca4-9b75-907246e5831e",
   "metadata": {},
   "outputs": [],
   "source": []
  }
 ],
 "metadata": {
  "kernelspec": {
   "display_name": "Python 3 (ipykernel)",
   "language": "python",
   "name": "python3"
  },
  "language_info": {
   "codemirror_mode": {
    "name": "ipython",
    "version": 3
   },
   "file_extension": ".py",
   "mimetype": "text/x-python",
   "name": "python",
   "nbconvert_exporter": "python",
   "pygments_lexer": "ipython3",
   "version": "3.9.6"
  }
 },
 "nbformat": 4,
 "nbformat_minor": 5
}
